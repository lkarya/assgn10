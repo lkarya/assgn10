{
 "cells": [
  {
   "cell_type": "code",
   "execution_count": null,
   "id": "7f3e6b98",
   "metadata": {},
   "outputs": [],
   "source": [
    "# How do you distinguish between shutil.copy() and shutil.copytree()?\n",
    "\n",
    "While shutil. copy() will copy a single file, shutil. copytree() will copy an entire folder and every folder and file contained in it.\n",
    "\n",
    "\n",
    "# What function is used to rename files?\n",
    "\n",
    "os. rename() method in Python is used to rename a file.\n",
    "\n",
    "\n",
    "# What is the difference between the delete functions in the send2trash and shutil modules?\n",
    "\n",
    "The send2trash functions will move a file or folder to the recycle bin, while shutil functions will permanently delete files and folders.\n",
    "\n",
    "\n",
    "# ZipFile objects have a close() method just like File objects’ close() method. What ZipFile method is equivalent to File objects’ open() method?\n",
    "\n",
    "The ZIP file format is a common archive and compression standard.\n",
    "ZipFile.close()\n",
    "Close the archive file. You must call close() before exiting your program or essential records will not be written.\n",
    "\n",
    "\n",
    "# "
   ]
  }
 ],
 "metadata": {
  "kernelspec": {
   "display_name": "Python 3 (ipykernel)",
   "language": "python",
   "name": "python3"
  },
  "language_info": {
   "codemirror_mode": {
    "name": "ipython",
    "version": 3
   },
   "file_extension": ".py",
   "mimetype": "text/x-python",
   "name": "python",
   "nbconvert_exporter": "python",
   "pygments_lexer": "ipython3",
   "version": "3.9.7"
  }
 },
 "nbformat": 4,
 "nbformat_minor": 5
}
